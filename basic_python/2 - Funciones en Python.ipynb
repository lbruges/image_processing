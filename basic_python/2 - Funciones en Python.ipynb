{
 "cells": [
  {
   "cell_type": "markdown",
   "metadata": {},
   "source": [
    "<h2>Funciones</h2>"
   ]
  },
  {
   "cell_type": "markdown",
   "metadata": {},
   "source": [
    "<h3>Sintaxis básica</h3>"
   ]
  },
  {
   "cell_type": "code",
   "execution_count": 1,
   "metadata": {},
   "outputs": [],
   "source": [
    "def square(value):\n",
    "    new_value = value ** 2\n",
    "    return new_value"
   ]
  },
  {
   "cell_type": "code",
   "execution_count": 2,
   "metadata": {},
   "outputs": [
    {
     "name": "stdout",
     "output_type": "stream",
     "text": [
      "16\n"
     ]
    }
   ],
   "source": [
    "num = square(4)\n",
    "print(num)"
   ]
  },
  {
   "cell_type": "markdown",
   "metadata": {},
   "source": [
    "<h3>Tuplas</h3>\n",
    "<p>Una tupla es una colección ordenada e inalterable. Las tuplas también tienen su índice basado en 0:</p>"
   ]
  },
  {
   "cell_type": "code",
   "execution_count": 6,
   "metadata": {},
   "outputs": [
    {
     "name": "stdout",
     "output_type": "stream",
     "text": [
      "<class 'tuple'>\n",
      "2\n"
     ]
    }
   ],
   "source": [
    "even_nums = (2, 4, 6)\n",
    "print(type(even_nums))\n",
    "print(even_nums[0])"
   ]
  },
  {
   "cell_type": "markdown",
   "metadata": {},
   "source": [
    "<p>Asignación una tupla a múltiples variables (unpacking):</p>"
   ]
  },
  {
   "cell_type": "code",
   "execution_count": 5,
   "metadata": {},
   "outputs": [
    {
     "name": "stdout",
     "output_type": "stream",
     "text": [
      "valor de 'a': 2 valor de 'b': 4 valor de 'c':\n"
     ]
    }
   ],
   "source": [
    "a, b, c = even_nums\n",
    "print(\"valor de 'a':\", a, \"valor de 'b':\", b, \"valor de 'c':\")"
   ]
  },
  {
   "cell_type": "markdown",
   "metadata": {},
   "source": [
    "Las tuplas también son utilizadas como estructuras intermedas para retornar \"múltiples valores\" de las funciones:"
   ]
  },
  {
   "cell_type": "code",
   "execution_count": 9,
   "metadata": {},
   "outputs": [],
   "source": [
    "def raise_both(val1, val2):\n",
    "    \"\"\"Retorna val1^val2 y val2^val1\"\"\"\n",
    "    new_val1 = val1 ** val2\n",
    "    new_val2 = val2 ** val1\n",
    "    \n",
    "    return (new_val1, new_val2)"
   ]
  },
  {
   "cell_type": "code",
   "execution_count": 10,
   "metadata": {},
   "outputs": [
    {
     "name": "stdout",
     "output_type": "stream",
     "text": [
      "2^3:  8\n",
      "3^2:  9\n"
     ]
    }
   ],
   "source": [
    "raise1, raise2 = raise_both(2, 3)\n",
    "print(\"2^3: \", raise1)\n",
    "print(\"3^2: \", raise2)"
   ]
  },
  {
   "cell_type": "markdown",
   "metadata": {},
   "source": [
    "<h3>Argumentos por defecto y flexibles</h3>"
   ]
  },
  {
   "cell_type": "markdown",
   "metadata": {},
   "source": [
    "<h3>Argumentos por defecto</h3>\n",
    "<p>Es posible asignar valores por defecto en caso de que no se envíe el argumento en la posición especificada (o con el identificador del argumento):</p>"
   ]
  },
  {
   "cell_type": "code",
   "execution_count": 20,
   "metadata": {},
   "outputs": [],
   "source": [
    "def power(number, power=1):\n",
    "    \"\"\"Eleva un número a la potencia especificada\"\"\"\n",
    "    new_value = number ** power\n",
    "    return new_value"
   ]
  },
  {
   "cell_type": "code",
   "execution_count": 21,
   "metadata": {},
   "outputs": [
    {
     "name": "stdout",
     "output_type": "stream",
     "text": [
      "9^1:  9\n",
      "9^2:  81\n",
      "9^3:  729\n"
     ]
    }
   ],
   "source": [
    "nine_default = power(9)\n",
    "print(\"9^1: \", nine_default)\n",
    "\n",
    "nine_pow_2 = power(9, 2)\n",
    "print(\"9^2: \", nine_pow_2)\n",
    "\n",
    "nine_pow_3 = power(power=3, number=9)\n",
    "print(\"9^3: \", nine_pow_3)"
   ]
  },
  {
   "cell_type": "markdown",
   "metadata": {},
   "source": [
    "<h3>Argumentos flexibles</h3>\n",
    "<h4>*args</h4>\n",
    "<p>Representan a una lista cuyo tamaño estaría representado por el número de valurabiables enviadas (equivalente a la sintaxis <b>...</b> en otros lenguajes):</p>"
   ]
  },
  {
   "cell_type": "code",
   "execution_count": 22,
   "metadata": {},
   "outputs": [],
   "source": [
    "def add_all(*args):\n",
    "    total = 0\n",
    "    \n",
    "    for num in args:\n",
    "        total += num\n",
    "    \n",
    "    return total"
   ]
  },
  {
   "cell_type": "code",
   "execution_count": 23,
   "metadata": {},
   "outputs": [
    {
     "name": "stdout",
     "output_type": "stream",
     "text": [
      "Total:  48\n"
     ]
    }
   ],
   "source": [
    "total = add_all(1, 2, 10, 15, 20)\n",
    "print(\"Total: \", total)"
   ]
  },
  {
   "cell_type": "markdown",
   "metadata": {},
   "source": [
    "<h4>**kwargs</h4>\n",
    "<p>Keyword args. Similar a args pero representa un diccionario clave/valor en lugar de una lista</p>"
   ]
  },
  {
   "cell_type": "code",
   "execution_count": 34,
   "metadata": {},
   "outputs": [],
   "source": [
    "def print_all(**kwargs):\n",
    "    for key, value in kwargs.items():\n",
    "        print(key, \"|\", value)"
   ]
  },
  {
   "cell_type": "code",
   "execution_count": 38,
   "metadata": {},
   "outputs": [
    {
     "name": "stdout",
     "output_type": "stream",
     "text": [
      "name | John Doe\n",
      "employer | Super ABC\n",
      "----------\n",
      "name | Dumbledore\n",
      "job | headmaster\n"
     ]
    }
   ],
   "source": [
    "print_all(name=\"John Doe\", employer='Super ABC')\n",
    "print(\"----------\")\n",
    "print_all(name=\"Dumbledore\", job='headmaster')"
   ]
  },
  {
   "cell_type": "markdown",
   "metadata": {},
   "source": [
    "<h3>Funciones Lambda</h3>"
   ]
  },
  {
   "cell_type": "markdown",
   "metadata": {},
   "source": [
    "Son funciones anónimas que pueden recibir varios argumentos"
   ]
  },
  {
   "cell_type": "code",
   "execution_count": 39,
   "metadata": {},
   "outputs": [
    {
     "data": {
      "text/plain": [
       "8"
      ]
     },
     "execution_count": 39,
     "metadata": {},
     "output_type": "execute_result"
    }
   ],
   "source": [
    "raise_to_power = lambda x, y: x**y\n",
    "\n",
    "raise_to_power(2, 3)"
   ]
  },
  {
   "cell_type": "code",
   "execution_count": 41,
   "metadata": {},
   "outputs": [],
   "source": [
    "def multiplier(n):\n",
    "    return lambda in_arg : in_arg * n"
   ]
  },
  {
   "cell_type": "code",
   "execution_count": 42,
   "metadata": {},
   "outputs": [
    {
     "name": "stdout",
     "output_type": "stream",
     "text": [
      "<class 'function'>\n",
      "10 * 2 = 20\n",
      "10 * 3 = 30\n"
     ]
    }
   ],
   "source": [
    "doubler = multiplier(2)\n",
    "print(type(doubler))\n",
    "print(\"10 * 2 =\", doubler(10))\n",
    "\n",
    "tripler = multiplier(3)\n",
    "print(\"10 * 3 =\",tripler(10))"
   ]
  },
  {
   "cell_type": "markdown",
   "metadata": {},
   "source": [
    "<h3>Funciones anónimas</h3>"
   ]
  },
  {
   "cell_type": "markdown",
   "metadata": {},
   "source": [
    "<p>Son funciones que reciben un iterable y aplican una operación a cada uno de sus elementos o los acumulan en un mismo resultado.</p>\n",
    "<p>Los argumentos de entrada que se envían típicamente son (funcion_a_aplicar, coleccion)</p>"
   ]
  },
  {
   "cell_type": "code",
   "execution_count": 43,
   "metadata": {},
   "outputs": [],
   "source": [
    "my_list = [10, 20, 30]"
   ]
  },
  {
   "cell_type": "markdown",
   "metadata": {},
   "source": [
    "<h4>Map</h4>\n",
    "<p>Aplica una función a cada uno de sus elementos.</p>"
   ]
  },
  {
   "cell_type": "code",
   "execution_count": 51,
   "metadata": {},
   "outputs": [
    {
     "name": "stdout",
     "output_type": "stream",
     "text": [
      "<map object at 0x0000021DDAEDC5C8>\n",
      "<class 'map'>\n",
      "20\n",
      "40\n",
      "60\n"
     ]
    }
   ],
   "source": [
    "map_result = map(lambda x: x*2, my_list)\n",
    "\n",
    "print(map_result)\n",
    "print(type(map_result))\n",
    "map_result = list(map_result)\n",
    "\n",
    "for num in map_result:\n",
    "    print(num)"
   ]
  },
  {
   "cell_type": "markdown",
   "metadata": {},
   "source": [
    "<h4>Filter</h4>\n",
    "<p>Filtra elementos que cumplan con determinada condición, expresada como una función con retorno booleano.</p>"
   ]
  },
  {
   "cell_type": "code",
   "execution_count": 53,
   "metadata": {},
   "outputs": [
    {
     "name": "stdout",
     "output_type": "stream",
     "text": [
      "<class 'filter'>\n",
      "40\n",
      "60\n"
     ]
    }
   ],
   "source": [
    "filter_result = filter(lambda x: x > 30, map_result)\n",
    "\n",
    "print(type(filter_result))\n",
    "filter_result = list(filter_result)\n",
    "for num in filter_result:\n",
    "    print(num)"
   ]
  }
 ],
 "metadata": {
  "kernelspec": {
   "display_name": "Python 3",
   "language": "python",
   "name": "python3"
  },
  "language_info": {
   "codemirror_mode": {
    "name": "ipython",
    "version": 3
   },
   "file_extension": ".py",
   "mimetype": "text/x-python",
   "name": "python",
   "nbconvert_exporter": "python",
   "pygments_lexer": "ipython3",
   "version": "3.7.6"
  }
 },
 "nbformat": 4,
 "nbformat_minor": 4
}
