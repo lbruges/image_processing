{
 "cells": [
  {
   "cell_type": "markdown",
   "metadata": {},
   "source": [
    "<h2>Caso de estudio</h2>"
   ]
  },
  {
   "cell_type": "markdown",
   "metadata": {},
   "source": [
    "<h3>Diccionarios para Data Science</h3>\n",
    "<p>Para este ejercicio se combinarán dos listas en un diccionario utilizando <i>zip()</i> simulando los datos de el  dataset más grande de indicadores del <a href=\"https://datacatalog.worldbank.org/dataset/world-development-indicators\">Banco Mundial</a></p>"
   ]
  },
  {
   "cell_type": "code",
   "execution_count": 2,
   "metadata": {},
   "outputs": [],
   "source": [
    "row_vals = ['Arab World',\n",
    " 'ARB',\n",
    " 'Adolescent fertility rate (births per 1,000 women ages 15-19)',\n",
    " 'SP.ADO.TFRT',\n",
    " '1960',\n",
    " '133.56090740552298']\n",
    "feature_names = ['CountryName',\n",
    " 'CountryCode',\n",
    " 'IndicatorName',\n",
    " 'IndicatorCode',\n",
    " 'Year',\n",
    " 'Value']"
   ]
  },
  {
   "cell_type": "markdown",
   "metadata": {},
   "source": [
    "<ul>\n",
    "    <li>Crear un objeto zip llamando el método zip() pasándole <b>feature_names</b> y <b>row_vals</b>. Asignar el resultado a <b>zipped_lists</b>.</li>\n",
    "    <li>Crear un diccionario utilizando <b>zipped_lists</b> con la función <i>dict()</i>. Asignar el resultado al diccionario <b>rs_dict</b>.</li>\n",
    "</ul>"
   ]
  },
  {
   "cell_type": "code",
   "execution_count": 3,
   "metadata": {},
   "outputs": [
    {
     "name": "stdout",
     "output_type": "stream",
     "text": [
      "{'CountryName': 'Arab World', 'CountryCode': 'ARB', 'IndicatorName': 'Adolescent fertility rate (births per 1,000 women ages 15-19)', 'IndicatorCode': 'SP.ADO.TFRT', 'Year': '1960', 'Value': '133.56090740552298'}\n"
     ]
    }
   ],
   "source": [
    "# Zip lists: zipped_lists\n",
    "zipped_lists = zip(feature_names, row_vals)\n",
    "\n",
    "# Create a dictionary: rs_dict\n",
    "rs_dict = dict(zipped_lists)\n",
    "\n",
    "# Print the dictionary\n",
    "print(rs_dict)\n"
   ]
  },
  {
   "cell_type": "markdown",
   "metadata": {},
   "source": [
    "<h3>Escribir una función para ayudarte</h3>"
   ]
  },
  {
   "cell_type": "markdown",
   "metadata": {},
   "source": [
    "<p>Una función ayuda a reducir el código repetido al hacerlo reutilizable. </p>"
   ]
  },
  {
   "cell_type": "markdown",
   "metadata": {},
   "source": [
    "<ul>\n",
    "    <li>Definir la función <b>lists2dict</b> con dos parámetros <b>list1</b> y <b>list2</b></li>\n",
    "    <li>Llamar la función con <b>feature_names</b> y <b>row_vals</b> como argumentos.</li>\n",
    "</ul>"
   ]
  },
  {
   "cell_type": "code",
   "execution_count": 4,
   "metadata": {},
   "outputs": [
    {
     "name": "stdout",
     "output_type": "stream",
     "text": [
      "{'CountryName': 'Arab World', 'CountryCode': 'ARB', 'IndicatorName': 'Adolescent fertility rate (births per 1,000 women ages 15-19)', 'IndicatorCode': 'SP.ADO.TFRT', 'Year': '1960', 'Value': '133.56090740552298'}\n"
     ]
    }
   ],
   "source": [
    "# Define lists2dict()\n",
    "def lists2dict(list1, list2):\n",
    "    \"\"\"Return a dictionary where list1 provides\n",
    "    the keys and list2 provides the values.\"\"\"\n",
    "\n",
    "    # Zip lists: zipped_lists\n",
    "    zipped_lists = zip(list1, list2)\n",
    "\n",
    "    # Create a dictionary: rs_dict\n",
    "    rs_dict = dict(zipped_lists)\n",
    "\n",
    "    # Return the dictionary\n",
    "    return rs_dict\n",
    "\n",
    "# Call lists2dict: rs_fxn\n",
    "rs_fxn = lists2dict(feature_names, row_vals)\n",
    "\n",
    "# Print rs_fxn\n",
    "print(rs_fxn)"
   ]
  },
  {
   "cell_type": "markdown",
   "metadata": {},
   "source": [
    "<h3>Usar una compresión de lista</h3>"
   ]
  },
  {
   "cell_type": "code",
   "execution_count": 5,
   "metadata": {},
   "outputs": [],
   "source": [
    "row_lists = [['Arab World','ARB','Adolescent fertility rate (births per 1,000 women ages 15-19)','SP.ADO.TFRT','1960','133.56090740552298'], ['Arab World','ARB','Age dependency ratio (% of working-age population)','SP.POP.DPND','1960','87.7976011532547'], ['Arab World','ARB','Age dependency ratio, old (% of working-age population)','SP.POP.DPND.OL','1960','6.634579191565161'], ['Arab World','ARB','Age dependency ratio, young (% of working-age population)','SP.POP.DPND.YG','1960','81.02332950839141'], ['Arab World','ARB','Arms exports (SIPRI trend indicator values)','MS.MIL.XPRT.KD','1960','3000000.0'], ['Arab World','ARB','Arms imports (SIPRI trend indicator values)','MS.MIL.MPRT.KD','1960','538000000.0'], ['Arab World','ARB','Birth rate, crude (per 1,000 people)','SP.DYN.CBRT.IN','1960','47.697888095096395'], ['Arab World','ARB','CO2 emissions (kt)','EN.ATM.CO2E.KT','1960','59563.9892169935'], ['Arab World','ARB','CO2 emissions (metric tons per capita)','EN.ATM.CO2E.PC','1960','0.6439635478877049'], ['Arab World','ARB','CO2 emissions from gaseous fuel consumption (% of total)','EN.ATM.CO2E.GF.ZS','1960','5.041291753975099'], ['Arab World','ARB','CO2 emissions from liquid fuel consumption (% of total)','EN.ATM.CO2E.LF.ZS','1960','84.8514729446567'], ['Arab World','ARB','CO2 emissions from liquid fuel consumption (kt)','EN.ATM.CO2E.LF.KT','1960','49541.707291032304'], ['Arab World','ARB','CO2 emissions from solid fuel consumption (% of total)','EN.ATM.CO2E.SF.ZS','1960','4.72698138789597'], ['Arab World','ARB','Death rate, crude (per 1,000 people)','SP.DYN.CDRT.IN','1960','19.7544519237187'], ['Arab World','ARB','Fertility rate, total (births per woman)','SP.DYN.TFRT.IN','1960','6.92402738655897'], ['Arab World','ARB','Fixed telephone subscriptions','IT.MLT.MAIN','1960','406833.0'], ['Arab World','ARB','Fixed telephone subscriptions (per 100 people)','IT.MLT.MAIN.P2','1960','0.6167005703199'], ['Arab World','ARB','Hospital beds (per 1,000 people)','SH.MED.BEDS.ZS','1960','1.9296220724398703'], ['Arab World','ARB','International migrant stock (% of population)','SM.POP.TOTL.ZS','1960','2.9906371279862403'], ['Arab World','ARB','International migrant stock, total','SM.POP.TOTL','1960','3324685.0']]"
   ]
  },
  {
   "cell_type": "markdown",
   "metadata": {},
   "source": [
    "<ul>\n",
    "    <li>Inspeccionar los contenidos de <b>row_lists</b> imprimiendo las primeras dos listas.</li>\n",
    "    <li>Crear una comprensión de lista que genere un diccionario utilizando <b>lists2dict()</b> para cada sublista en <b>row_lists</b>.</li>\n",
    "</ul>"
   ]
  },
  {
   "cell_type": "code",
   "execution_count": 6,
   "metadata": {},
   "outputs": [
    {
     "name": "stdout",
     "output_type": "stream",
     "text": [
      "['Arab World', 'ARB', 'Adolescent fertility rate (births per 1,000 women ages 15-19)', 'SP.ADO.TFRT', '1960', '133.56090740552298']\n",
      "['Arab World', 'ARB', 'Age dependency ratio (% of working-age population)', 'SP.POP.DPND', '1960', '87.7976011532547']\n",
      "{'CountryName': 'Arab World', 'CountryCode': 'ARB', 'IndicatorName': 'Adolescent fertility rate (births per 1,000 women ages 15-19)', 'IndicatorCode': 'SP.ADO.TFRT', 'Year': '1960', 'Value': '133.56090740552298'}\n",
      "{'CountryName': 'Arab World', 'CountryCode': 'ARB', 'IndicatorName': 'Age dependency ratio (% of working-age population)', 'IndicatorCode': 'SP.POP.DPND', 'Year': '1960', 'Value': '87.7976011532547'}\n"
     ]
    }
   ],
   "source": [
    "# Print the first two lists in row_lists\n",
    "print(row_lists[0])\n",
    "print(row_lists[1])\n",
    "\n",
    "# Turn list of lists into list of dicts: list_of_dicts\n",
    "list_of_dicts = [lists2dict(feature_names, sublist) for sublist in row_lists]\n",
    "\n",
    "# Print the first two dictionaries in list_of_dicts\n",
    "print(list_of_dicts[0])\n",
    "print(list_of_dicts[1])"
   ]
  },
  {
   "cell_type": "markdown",
   "metadata": {},
   "source": [
    "<h3>Agregar todo a un DataFrame</h3>"
   ]
  },
  {
   "cell_type": "markdown",
   "metadata": {},
   "source": [
    "Pasar <b>list_of_dicts</b> a un DataFrame obteniéndolo de pandas (con el álias <b>pd</b>):"
   ]
  },
  {
   "cell_type": "code",
   "execution_count": 7,
   "metadata": {},
   "outputs": [
    {
     "name": "stdout",
     "output_type": "stream",
     "text": [
      "  CountryName CountryCode                                      IndicatorName  \\\n",
      "0  Arab World         ARB  Adolescent fertility rate (births per 1,000 wo...   \n",
      "1  Arab World         ARB  Age dependency ratio (% of working-age populat...   \n",
      "2  Arab World         ARB  Age dependency ratio, old (% of working-age po...   \n",
      "3  Arab World         ARB  Age dependency ratio, young (% of working-age ...   \n",
      "4  Arab World         ARB        Arms exports (SIPRI trend indicator values)   \n",
      "\n",
      "    IndicatorCode  Year               Value  \n",
      "0     SP.ADO.TFRT  1960  133.56090740552298  \n",
      "1     SP.POP.DPND  1960    87.7976011532547  \n",
      "2  SP.POP.DPND.OL  1960   6.634579191565161  \n",
      "3  SP.POP.DPND.YG  1960   81.02332950839141  \n",
      "4  MS.MIL.XPRT.KD  1960           3000000.0  \n"
     ]
    }
   ],
   "source": [
    "# Import the pandas package\n",
    "import pandas as pd\n",
    "\n",
    "# Turn list of dicts into a DataFrame: df\n",
    "df = pd.DataFrame(list_of_dicts)\n",
    "\n",
    "# Print the head of the DataFrame\n",
    "print(df.head())"
   ]
  },
  {
   "cell_type": "code",
   "execution_count": null,
   "metadata": {},
   "outputs": [],
   "source": []
  }
 ],
 "metadata": {
  "kernelspec": {
   "display_name": "Python 3",
   "language": "python",
   "name": "python3"
  },
  "language_info": {
   "codemirror_mode": {
    "name": "ipython",
    "version": 3
   },
   "file_extension": ".py",
   "mimetype": "text/x-python",
   "name": "python",
   "nbconvert_exporter": "python",
   "pygments_lexer": "ipython3",
   "version": "3.7.6"
  }
 },
 "nbformat": 4,
 "nbformat_minor": 4
}
